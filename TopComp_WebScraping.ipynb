{
 "cells": [
  {
   "cell_type": "markdown",
   "id": "d196eb8e",
   "metadata": {},
   "source": [
    "# Scraping Data from a Website using BeautifulSoup & Pandas"
   ]
  },
  {
   "cell_type": "code",
   "execution_count": 39,
   "id": "9b2b9bbf",
   "metadata": {},
   "outputs": [],
   "source": [
    "import pandas as pd"
   ]
  },
  {
   "cell_type": "code",
   "execution_count": 1,
   "id": "5b89d68d",
   "metadata": {},
   "outputs": [],
   "source": [
    "from bs4 import BeautifulSoup\n",
    "import requests"
   ]
  },
  {
   "cell_type": "code",
   "execution_count": 2,
   "id": "1fb12373",
   "metadata": {},
   "outputs": [],
   "source": [
    "url = 'https://en.wikipedia.org/wiki/List_of_largest_companies_in_the_United_States_by_revenue'\n",
    "\n",
    "page = requests.get(url)\n",
    "\n",
    "soup = BeautifulSoup(page.text, 'html')"
   ]
  },
  {
   "cell_type": "code",
   "execution_count": 71,
   "id": "c77e8245",
   "metadata": {},
   "outputs": [],
   "source": [
    "# print(soup.prettify())"
   ]
  },
  {
   "cell_type": "code",
   "execution_count": 72,
   "id": "c5bebb8b",
   "metadata": {},
   "outputs": [],
   "source": [
    "table = soup.find_all('table',class_='wikitable sortable')\n",
    "large_comp= table[0]\n",
    "profitable_comp = table[1]\n",
    "# print(table)"
   ]
  },
  {
   "cell_type": "code",
   "execution_count": 33,
   "id": "5115208e",
   "metadata": {
    "scrolled": true
   },
   "outputs": [
    {
     "data": {
      "text/plain": [
       "[<th>Rank\n",
       " </th>,\n",
       " <th>Name\n",
       " </th>,\n",
       " <th>Industry\n",
       " </th>,\n",
       " <th>Revenue <br/>(USD millions)\n",
       " </th>,\n",
       " <th>Revenue growth\n",
       " </th>,\n",
       " <th>Employees\n",
       " </th>,\n",
       " <th>Headquarters\n",
       " </th>]"
      ]
     },
     "execution_count": 33,
     "metadata": {},
     "output_type": "execute_result"
    }
   ],
   "source": [
    "large_comp_heading = large_comp.find_all('th')\n",
    "large_comp_heading"
   ]
  },
  {
   "cell_type": "code",
   "execution_count": 41,
   "id": "69acf8fe",
   "metadata": {},
   "outputs": [
    {
     "name": "stdout",
     "output_type": "stream",
     "text": [
      "['Rank', 'Name', 'Industry', 'Revenue (USD millions)', 'Revenue growth', 'Employees', 'Headquarters']\n"
     ]
    }
   ],
   "source": [
    "lc_table_heading = [head.text.strip() for head in large_comp_heading]\n",
    "print(lc_table_heading)"
   ]
  },
  {
   "cell_type": "code",
   "execution_count": 42,
   "id": "a9d3f865",
   "metadata": {},
   "outputs": [
    {
     "data": {
      "text/html": [
       "<div>\n",
       "<style scoped>\n",
       "    .dataframe tbody tr th:only-of-type {\n",
       "        vertical-align: middle;\n",
       "    }\n",
       "\n",
       "    .dataframe tbody tr th {\n",
       "        vertical-align: top;\n",
       "    }\n",
       "\n",
       "    .dataframe thead th {\n",
       "        text-align: right;\n",
       "    }\n",
       "</style>\n",
       "<table border=\"1\" class=\"dataframe\">\n",
       "  <thead>\n",
       "    <tr style=\"text-align: right;\">\n",
       "      <th></th>\n",
       "      <th>Rank</th>\n",
       "      <th>Name</th>\n",
       "      <th>Industry</th>\n",
       "      <th>Revenue (USD millions)</th>\n",
       "      <th>Revenue growth</th>\n",
       "      <th>Employees</th>\n",
       "      <th>Headquarters</th>\n",
       "    </tr>\n",
       "  </thead>\n",
       "  <tbody>\n",
       "  </tbody>\n",
       "</table>\n",
       "</div>"
      ],
      "text/plain": [
       "Empty DataFrame\n",
       "Columns: [Rank, Name, Industry, Revenue (USD millions), Revenue growth, Employees, Headquarters]\n",
       "Index: []"
      ]
     },
     "execution_count": 42,
     "metadata": {},
     "output_type": "execute_result"
    }
   ],
   "source": [
    "lc_df = pd.DataFrame(columns = lc_table_heading)\n",
    "lc_df"
   ]
  },
  {
   "cell_type": "code",
   "execution_count": 73,
   "id": "c70d0dc3",
   "metadata": {},
   "outputs": [],
   "source": [
    "lc_table_data = large_comp.find_all('tr')\n",
    "# lc_table_data"
   ]
  },
  {
   "cell_type": "code",
   "execution_count": 50,
   "id": "4654a869",
   "metadata": {},
   "outputs": [],
   "source": [
    "for row in lc_table_data[1:]:\n",
    "    row_data = row.find_all('td')\n",
    "    individual_data = [data.text.strip() for data in row_data]\n",
    "    \n",
    "    length = len(lc_df)\n",
    "    lc_df.loc[length] = individual_data"
   ]
  },
  {
   "cell_type": "code",
   "execution_count": 52,
   "id": "0cedccd7",
   "metadata": {},
   "outputs": [
    {
     "data": {
      "text/html": [
       "<div>\n",
       "<style scoped>\n",
       "    .dataframe tbody tr th:only-of-type {\n",
       "        vertical-align: middle;\n",
       "    }\n",
       "\n",
       "    .dataframe tbody tr th {\n",
       "        vertical-align: top;\n",
       "    }\n",
       "\n",
       "    .dataframe thead th {\n",
       "        text-align: right;\n",
       "    }\n",
       "</style>\n",
       "<table border=\"1\" class=\"dataframe\">\n",
       "  <thead>\n",
       "    <tr style=\"text-align: right;\">\n",
       "      <th></th>\n",
       "      <th>Rank</th>\n",
       "      <th>Name</th>\n",
       "      <th>Industry</th>\n",
       "      <th>Revenue (USD millions)</th>\n",
       "      <th>Revenue growth</th>\n",
       "      <th>Employees</th>\n",
       "      <th>Headquarters</th>\n",
       "    </tr>\n",
       "  </thead>\n",
       "  <tbody>\n",
       "    <tr>\n",
       "      <th>0</th>\n",
       "      <td>1</td>\n",
       "      <td>Walmart</td>\n",
       "      <td>General merchandisers</td>\n",
       "      <td>572,754</td>\n",
       "      <td>2.4%</td>\n",
       "      <td>2,300,000</td>\n",
       "      <td>Bentonville, Arkansas</td>\n",
       "    </tr>\n",
       "    <tr>\n",
       "      <th>1</th>\n",
       "      <td>2</td>\n",
       "      <td>Amazon</td>\n",
       "      <td>Retail and Cloud Computing</td>\n",
       "      <td>469,822</td>\n",
       "      <td>21.7%</td>\n",
       "      <td>1,608,000</td>\n",
       "      <td>Seattle, Washington</td>\n",
       "    </tr>\n",
       "    <tr>\n",
       "      <th>2</th>\n",
       "      <td>3</td>\n",
       "      <td>Apple</td>\n",
       "      <td>Electronics industry</td>\n",
       "      <td>365,817</td>\n",
       "      <td>33.2%</td>\n",
       "      <td>154,000</td>\n",
       "      <td>Cupertino, California</td>\n",
       "    </tr>\n",
       "    <tr>\n",
       "      <th>3</th>\n",
       "      <td>4</td>\n",
       "      <td>CVS Health</td>\n",
       "      <td>Healthcare</td>\n",
       "      <td>292,111</td>\n",
       "      <td>32.0%</td>\n",
       "      <td>258,000</td>\n",
       "      <td>Woonsocket, Rhode Island</td>\n",
       "    </tr>\n",
       "    <tr>\n",
       "      <th>4</th>\n",
       "      <td>5</td>\n",
       "      <td>UnitedHealth Group</td>\n",
       "      <td>Healthcare</td>\n",
       "      <td>287,597</td>\n",
       "      <td>11.8%</td>\n",
       "      <td>350,000</td>\n",
       "      <td>Minnetonka, Minnesota</td>\n",
       "    </tr>\n",
       "  </tbody>\n",
       "</table>\n",
       "</div>"
      ],
      "text/plain": [
       "  Rank                Name                    Industry Revenue (USD millions)  \\\n",
       "0    1             Walmart       General merchandisers                572,754   \n",
       "1    2              Amazon  Retail and Cloud Computing                469,822   \n",
       "2    3               Apple        Electronics industry                365,817   \n",
       "3    4          CVS Health                  Healthcare                292,111   \n",
       "4    5  UnitedHealth Group                  Healthcare                287,597   \n",
       "\n",
       "  Revenue growth  Employees              Headquarters  \n",
       "0           2.4%  2,300,000     Bentonville, Arkansas  \n",
       "1          21.7%  1,608,000       Seattle, Washington  \n",
       "2          33.2%    154,000     Cupertino, California  \n",
       "3          32.0%    258,000  Woonsocket, Rhode Island  \n",
       "4          11.8%    350,000     Minnetonka, Minnesota  "
      ]
     },
     "execution_count": 52,
     "metadata": {},
     "output_type": "execute_result"
    }
   ],
   "source": [
    "  lc_df.head()"
   ]
  },
  {
   "cell_type": "code",
   "execution_count": 66,
   "id": "da34f3b6",
   "metadata": {},
   "outputs": [],
   "source": [
    "lc_df.to_csv(r'D:\\DataScience\\Projects\\Portfolio\\DataScrapping\\Top_US_Companies_By_Revenue\\Outputs\\LargeCompaniesUSA.csv', index = False)"
   ]
  },
  {
   "cell_type": "code",
   "execution_count": 54,
   "id": "784a7a50",
   "metadata": {},
   "outputs": [
    {
     "data": {
      "text/plain": [
       "[<th>Rank\n",
       " </th>,\n",
       " <th>Name\n",
       " </th>,\n",
       " <th>Industry\n",
       " </th>,\n",
       " <th>Profits<br/>(USD millions)\n",
       " </th>]"
      ]
     },
     "execution_count": 54,
     "metadata": {},
     "output_type": "execute_result"
    }
   ],
   "source": [
    "profitable_comp_heading = profitable_comp.find_all('th')\n",
    "profitable_comp_heading"
   ]
  },
  {
   "cell_type": "code",
   "execution_count": 56,
   "id": "e95a2569",
   "metadata": {},
   "outputs": [
    {
     "data": {
      "text/plain": [
       "['Rank', 'Name', 'Industry', 'Profits(USD millions)']"
      ]
     },
     "execution_count": 56,
     "metadata": {},
     "output_type": "execute_result"
    }
   ],
   "source": [
    "pc_table_heading = [head.text.strip() for head in profitable_comp_heading]\n",
    "pc_table_heading "
   ]
  },
  {
   "cell_type": "code",
   "execution_count": 57,
   "id": "ae06144f",
   "metadata": {},
   "outputs": [
    {
     "data": {
      "text/html": [
       "<div>\n",
       "<style scoped>\n",
       "    .dataframe tbody tr th:only-of-type {\n",
       "        vertical-align: middle;\n",
       "    }\n",
       "\n",
       "    .dataframe tbody tr th {\n",
       "        vertical-align: top;\n",
       "    }\n",
       "\n",
       "    .dataframe thead th {\n",
       "        text-align: right;\n",
       "    }\n",
       "</style>\n",
       "<table border=\"1\" class=\"dataframe\">\n",
       "  <thead>\n",
       "    <tr style=\"text-align: right;\">\n",
       "      <th></th>\n",
       "      <th>Rank</th>\n",
       "      <th>Name</th>\n",
       "      <th>Industry</th>\n",
       "      <th>Profits(USD millions)</th>\n",
       "    </tr>\n",
       "  </thead>\n",
       "  <tbody>\n",
       "  </tbody>\n",
       "</table>\n",
       "</div>"
      ],
      "text/plain": [
       "Empty DataFrame\n",
       "Columns: [Rank, Name, Industry, Profits(USD millions)]\n",
       "Index: []"
      ]
     },
     "execution_count": 57,
     "metadata": {},
     "output_type": "execute_result"
    }
   ],
   "source": [
    "pc_df = pd.DataFrame(columns = pc_table_heading)\n",
    "pc_df"
   ]
  },
  {
   "cell_type": "code",
   "execution_count": 74,
   "id": "d8f6e7e7",
   "metadata": {},
   "outputs": [],
   "source": [
    "pc_table_data = profitable_comp.find_all('tr')\n",
    "# pc_table_data"
   ]
  },
  {
   "cell_type": "code",
   "execution_count": 62,
   "id": "92884f3a",
   "metadata": {},
   "outputs": [],
   "source": [
    "for row in pc_table_data[1:]:\n",
    "    row_data = row.find_all('td')\n",
    "    individual_data = [data.text.strip() for data in row_data]\n",
    "    \n",
    "    length = len(pc_df)\n",
    "    pc_df.loc[length] = individual_data"
   ]
  },
  {
   "cell_type": "code",
   "execution_count": 63,
   "id": "1fa44600",
   "metadata": {},
   "outputs": [
    {
     "data": {
      "text/html": [
       "<div>\n",
       "<style scoped>\n",
       "    .dataframe tbody tr th:only-of-type {\n",
       "        vertical-align: middle;\n",
       "    }\n",
       "\n",
       "    .dataframe tbody tr th {\n",
       "        vertical-align: top;\n",
       "    }\n",
       "\n",
       "    .dataframe thead th {\n",
       "        text-align: right;\n",
       "    }\n",
       "</style>\n",
       "<table border=\"1\" class=\"dataframe\">\n",
       "  <thead>\n",
       "    <tr style=\"text-align: right;\">\n",
       "      <th></th>\n",
       "      <th>Rank</th>\n",
       "      <th>Name</th>\n",
       "      <th>Industry</th>\n",
       "      <th>Profits(USD millions)</th>\n",
       "    </tr>\n",
       "  </thead>\n",
       "  <tbody>\n",
       "    <tr>\n",
       "      <th>0</th>\n",
       "      <td>1</td>\n",
       "      <td>Apple</td>\n",
       "      <td>Electronics</td>\n",
       "      <td>94,680</td>\n",
       "    </tr>\n",
       "    <tr>\n",
       "      <th>1</th>\n",
       "      <td>2</td>\n",
       "      <td>Berkshire Hathaway</td>\n",
       "      <td>Conglomerate</td>\n",
       "      <td>89,795</td>\n",
       "    </tr>\n",
       "    <tr>\n",
       "      <th>2</th>\n",
       "      <td>3</td>\n",
       "      <td>Alphabet</td>\n",
       "      <td>Technology</td>\n",
       "      <td>76,033</td>\n",
       "    </tr>\n",
       "    <tr>\n",
       "      <th>3</th>\n",
       "      <td>4</td>\n",
       "      <td>Microsoft</td>\n",
       "      <td>Technology</td>\n",
       "      <td>72,271</td>\n",
       "    </tr>\n",
       "    <tr>\n",
       "      <th>4</th>\n",
       "      <td>5</td>\n",
       "      <td>JPMorgan Chase</td>\n",
       "      <td>Financials</td>\n",
       "      <td>48,334</td>\n",
       "    </tr>\n",
       "  </tbody>\n",
       "</table>\n",
       "</div>"
      ],
      "text/plain": [
       "  Rank                Name      Industry Profits(USD millions)\n",
       "0    1               Apple   Electronics                94,680\n",
       "1    2  Berkshire Hathaway  Conglomerate                89,795\n",
       "2    3            Alphabet    Technology                76,033\n",
       "3    4           Microsoft    Technology                72,271\n",
       "4    5      JPMorgan Chase    Financials                48,334"
      ]
     },
     "execution_count": 63,
     "metadata": {},
     "output_type": "execute_result"
    }
   ],
   "source": [
    " pc_df.head()"
   ]
  },
  {
   "cell_type": "code",
   "execution_count": 65,
   "id": "5b5e2b8f",
   "metadata": {},
   "outputs": [],
   "source": [
    "pc_df.to_csv(r'D:\\DataScience\\Projects\\Portfolio\\DataScrapping\\Top_US_Companies_By_Revenue\\Outputs\\Fortune500Companies.csv', index = False)"
   ]
  },
  {
   "cell_type": "code",
   "execution_count": null,
   "id": "dc6ad361",
   "metadata": {},
   "outputs": [],
   "source": []
  }
 ],
 "metadata": {
  "kernelspec": {
   "display_name": "Python 3 (ipykernel)",
   "language": "python",
   "name": "python3"
  },
  "language_info": {
   "codemirror_mode": {
    "name": "ipython",
    "version": 3
   },
   "file_extension": ".py",
   "mimetype": "text/x-python",
   "name": "python",
   "nbconvert_exporter": "python",
   "pygments_lexer": "ipython3",
   "version": "3.9.13"
  }
 },
 "nbformat": 4,
 "nbformat_minor": 5
}
